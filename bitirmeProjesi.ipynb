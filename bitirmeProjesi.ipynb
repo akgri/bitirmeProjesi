{
 "cells": [
  {
   "cell_type": "markdown",
   "metadata": {
    "solution": "hidden",
    "solution_first": true
   },
   "source": [
    "# Selenium ile kariyer.net verilerini çekme\n",
    "\n",
    "Selenium web sayfaları üzerinden otomasyon, test senaryoları yazmayı sağlayan bir kütüphanedir. Python dışında pek çok programlama dili ile kullanılabilir. Burada Selenium kullanma sebebim kariyer.net web sayfasının dinamik bir arayüzü olması sebebiyle sayfa açıldıktan sonra ekrana yansayacak verileri alabilmektir. Bu sayede daha çok veriyi eksiksiz ve doğru bir şekilde erişebilmiş olacağım."
   ]
  },
  {
   "cell_type": "markdown",
   "metadata": {},
   "source": [
    "## Araştırma yapılacak web sayfalarına ulaşma\n",
    "Verileri 2 aşama ile çekeceğiz. Öncelikle verilerine ulaşmamız gereken ilanların url'lerine bulup bir değişkene atayacağız daha sonra bu url'lere selenium yardımı ile tek tek ulaşarak her biri üzerinden araştırma yapacağımız bilgileri tablomuzda ilgili değişkene atacağız."
   ]
  },
  {
   "cell_type": "code",
   "execution_count": 1,
   "metadata": {},
   "outputs": [],
   "source": [
    "#Gerekli fonksiyonları import edelim\n",
    "from dfply import * #dplyr python portu\n",
    "import time\n",
    "import random\n",
    "import pandas as pd\n",
    "from bs4 import BeautifulSoup # daha ilkel bir html parse kutuphanesi\n",
    "from selenium import webdriver\n",
    "\n",
    "driver_path = \"C:/webdriver/chromedriver.exe\"#webdriver.exe konumunu göstermeliyiz. \n",
    "driver = webdriver.Chrome(driver_path) \n",
    "#\n",
    "#\n",
    "from selenium.webdriver.common.action_chains import ActionChains\n",
    "def nextpage():\n",
    "    ActionChains(driver).move_to_element(driver.find_element_by_id('lnkNextPage')).perform()\n",
    "    driver.find_element_by_id('lnkNextPage').click()\n",
    "    "
   ]
  },
  {
   "cell_type": "code",
   "execution_count": 341,
   "metadata": {},
   "outputs": [],
   "source": [
    "for url in urls:\n",
    "    driver.get(url)\n",
    "    time.sleep(2)\n",
    "    driver.execute_script(\"window.scrollTo(0,700)\")\n",
    "    time.sleep(0.5)\n",
    "    driver.execute_script(\"window.scrollTo(0,1000)\")\n",
    "    time.sleep(0.5)\n",
    "    driver.execute_script(\"window.scrollTo(0,1300)\")\n",
    "    time.sleep(0.5)\n",
    "    driver.execute_script(\"window.scrollTo(0,1600)\")\n",
    "    time.sleep(0.5)\n",
    "    driver.execute_script(\"window.scrollTo(0,1800)\")\n",
    "    time.sleep(0.5)\n",
    "    driver.execute_script(\"window.scrollTo(0,2300)\")\n",
    "    time.sleep(0.5)\n",
    "    driver.execute_script(\"window.scrollTo(0,1000)\")\n",
    "    time.sleep(3)\n",
    "\n",
    "    kriterler = {\n",
    "        \"bir\": driver.find_elements_by_class_name(\"col-4\"),\n",
    "        \"iki\": driver.find_elements_by_class_name(\"col-12\")\n",
    "    }\n",
    "    try:\n",
    "        pozisyon = pozisyon + [driver.find_element_by_id(\"jobTitle\").text]\n",
    "    \n",
    "        city  = city  + [driver.find_element_by_id(\"jobCity\").text]\n",
    "    \n",
    "        firma = firma + [driver.find_element_by_id(\"jobCompany\").text]\n",
    "    \n",
    "        metin = metin + [driver.find_element_by_id(\"divIlanSablon\").text]\n",
    "        \n",
    "        b_sayisi=b_sayisi+[driver.find_element_by_xpath(\"//*[contains(@class, 'basvuru-sayisi')]\").find_element_by_css_selector('strong').text]\n",
    "        \n",
    "        g_sayisi=g_sayisi+[driver.find_element_by_xpath(\"//*[contains(@class, 'goruntulenme-sayisi')]\").find_element_by_css_selector('strong').text]\n",
    "        \n",
    "        sure=sure+[driver.find_element_by_xpath(\"//*[contains(@class, 'sure')]\").find_element_by_css_selector('strong').text]\n",
    "\n",
    "        \n",
    "    except:\n",
    "        continue\n",
    "    i = 0\n",
    "    for kriter in kriterler[\"bir\"]:\n",
    "        if kriter.text == 'Tecrübe:':\n",
    "            a = a + [(kriterler[\"iki\"][i].text)]\n",
    "        elif kriter.text == 'Askerlik Durumu:':\n",
    "            b = b + [(kriterler[\"iki\"][i].text)]\n",
    "        elif kriter.text == \"Departman:\":\n",
    "            d = d + [(kriterler[\"iki\"][i].text)]\n",
    "        i=i+1\n",
    "    \n",
    "    panels=[a,b,d,metin,firma,city,pozisyon,b_sayisi,g_sayisi,sure]\n",
    "    for panel in panels:\n",
    "        if len(panel)!=len(metin):\n",
    "            panel.append('NaN')"
   ]
  },
  {
   "cell_type": "code",
   "execution_count": 112,
   "metadata": {},
   "outputs": [],
   "source": [
    "urls=['https://www.kariyer.net/is-ilani/cemobsan-metal-ve-plastik-sanayi-ticaret-limited-s-ihracat-uzmani-2476220',\n",
    "'https://www.kariyer.net/is-ilani/dogan-metalurji-makina-ve-ins-taahut-sanve-ticaret-dijital-iletisim-uzmani-2476214',\n",
    "'https://www.kariyer.net/is-ilani/mitsuba-teklas-turkey-otomotiv-a-s-bakim-sorumlusu-2476147']\n",
    "pozisyon=[]\n",
    "city=[]\n",
    "firma=[]\n",
    "metin=[]\n",
    "b_sayisi=[]\n",
    "g_sayisi=[]\n",
    "sure=[]\n",
    "link=[]\n",
    "KriterDF=[]\n",
    "DT=None"
   ]
  },
  {
   "cell_type": "code",
   "execution_count": 113,
   "metadata": {},
   "outputs": [],
   "source": [
    "for url in urls:\n",
    "    driver.get(url)\n",
    "    time.sleep(0.5)\n",
    "    driver.execute_script(\"window.scrollTo(0,700)\")\n",
    "    time.sleep(0.5)\n",
    "    driver.execute_script(\"window.scrollTo(0,1000)\")\n",
    "    time.sleep(0.5)\n",
    "    driver.execute_script(\"window.scrollTo(0,1300)\")\n",
    "    time.sleep(0.2)\n",
    "    driver.execute_script(\"window.scrollTo(0,1600)\")\n",
    "    time.sleep(0.2)\n",
    "    driver.execute_script(\"window.scrollTo(0,1800)\")\n",
    "    time.sleep(0.2)\n",
    "    driver.execute_script(\"window.scrollTo(0,2300)\")\n",
    "    time.sleep(4)\n",
    "    driver.execute_script(\"window.scrollTo(0,1000)\")  \n",
    "    kriterler = {\n",
    "        \"bir\": driver.find_elements_by_class_name(\"col-4\"),\n",
    "        \"iki\": driver.find_elements_by_class_name(\"col-12\")\n",
    "    }\n",
    "    try: \n",
    "        pozisyon = pozisyon + [driver.find_element_by_id(\"jobTitle\").text]\n",
    "    except:\n",
    "        pozisyon.append(None)\n",
    "    try:\n",
    "        city  = city  + [driver.find_element_by_id(\"jobCity\").text]\n",
    "    except:\n",
    "        city.append(None)\n",
    "    try:\n",
    "        firma = firma + [driver.find_element_by_id(\"jobCompany\").text]\n",
    "    except:\n",
    "        firma.append(None)\n",
    "    try:\n",
    "        metin = metin + [driver.find_element_by_id(\"divIlanSablon\").text]\n",
    "    except:\n",
    "        metin.append(None)\n",
    "    try:\n",
    "        b_sayisi=b_sayisi+[driver.find_element_by_xpath(\"//*[contains(@class, 'basvuru-sayisi')]\").find_element_by_css_selector('strong').text]\n",
    "    except:\n",
    "        b_sayisi.append(None)\n",
    "    try:    \n",
    "        g_sayisi=g_sayisi+[driver.find_element_by_xpath(\"//*[contains(@class, 'goruntulenme-sayisi')]\").find_element_by_css_selector('strong').text]\n",
    "    except:\n",
    "        g_sayisi.append(None)\n",
    "    try:\n",
    "        sure=sure+[driver.find_element_by_xpath(\"//*[contains(@class, 'sure')]\").find_element_by_css_selector('strong').text]\n",
    "    except: \n",
    "        sure.append(None)\n",
    "    \n",
    "    # veriye ait tablo bilgilerini çekme kısmı\n",
    "    a=[]\n",
    "    b=[]\n",
    "    for i in range(len(kriterler['bir'])):\n",
    "        a.append(kriterler[\"bir\"][i].text)\n",
    "        b.append(kriterler[\"iki\"][i].text)\n",
    "    DT=(pd.DataFrame([b],columns=a)>>mutate(urls=url))\n",
    "    KriterDF.append(DT)\n",
    "        \n",
    "        "
   ]
  },
  {
   "cell_type": "code",
   "execution_count": 99,
   "metadata": {},
   "outputs": [],
   "source": [
    "kariyerDF=pd.DataFrame(list(zip(pozisyon,city,firma,metin,b_sayisi,g_sayisi,sure,urls)),\n",
    "             columns =['pozisyon', 'city','firma','metin','b_sayisi','g_sayisi','sure','urls'])"
   ]
  },
  {
   "cell_type": "code",
   "execution_count": 105,
   "metadata": {},
   "outputs": [
    {
     "ename": "SyntaxError",
     "evalue": "keyword can't be an expression (<ipython-input-105-85c34fd8e7fb>, line 1)",
     "output_type": "error",
     "traceback": [
      "\u001b[1;36m  File \u001b[1;32m\"<ipython-input-105-85c34fd8e7fb>\"\u001b[1;36m, line \u001b[1;32m1\u001b[0m\n\u001b[1;33m    kariyerDF.join(kriterDF.on='urls')\u001b[0m\n\u001b[1;37m                  ^\u001b[0m\n\u001b[1;31mSyntaxError\u001b[0m\u001b[1;31m:\u001b[0m keyword can't be an expression\n"
     ]
    }
   ],
   "source": [
    "kariyerDF.join(kriterDF.on='urls')"
   ]
  },
  {
   "cell_type": "code",
   "execution_count": 102,
   "metadata": {
    "collapsed": true
   },
   "outputs": [
    {
     "name": "stderr",
     "output_type": "stream",
     "text": [
      "C:\\Users\\fatih\\Anaconda3\\lib\\site-packages\\ipykernel_launcher.py:1: FutureWarning: Sorting because non-concatenation axis is not aligned. A future version\n",
      "of pandas will change to not sort by default.\n",
      "\n",
      "To accept the future behavior, pass 'sort=False'.\n",
      "\n",
      "To retain the current behavior and silence the warning, pass 'sort=True'.\n",
      "\n",
      "  \"\"\"Entry point for launching an IPython kernel.\n"
     ]
    }
   ],
   "source": [
    "kriterDF=pd.concat(KriterDF)"
   ]
  },
  {
   "cell_type": "code",
   "execution_count": 111,
   "metadata": {},
   "outputs": [
    {
     "data": {
      "text/plain": [
       "(3, 19)"
      ]
     },
     "execution_count": 111,
     "metadata": {},
     "output_type": "execute_result"
    }
   ],
   "source": [
    "pd.merge(kariyerDF, kriterDF, how='inner', left_on='urls', right_on='urls').shape"
   ]
  },
  {
   "cell_type": "code",
   "execution_count": 104,
   "metadata": {},
   "outputs": [
    {
     "data": {
      "text/html": [
       "<div>\n",
       "<style scoped>\n",
       "    .dataframe tbody tr th:only-of-type {\n",
       "        vertical-align: middle;\n",
       "    }\n",
       "\n",
       "    .dataframe tbody tr th {\n",
       "        vertical-align: top;\n",
       "    }\n",
       "\n",
       "    .dataframe thead th {\n",
       "        text-align: right;\n",
       "    }\n",
       "</style>\n",
       "<table border=\"1\" class=\"dataframe\">\n",
       "  <thead>\n",
       "    <tr style=\"text-align: right;\">\n",
       "      <th></th>\n",
       "      <th>Askerlik Durumu:</th>\n",
       "      <th>Departman:</th>\n",
       "      <th>Eğitim Seviyesi:</th>\n",
       "      <th>Firma Sektörü:</th>\n",
       "      <th>Personel Sayısı:</th>\n",
       "      <th>Pozisyon Seviyesi:</th>\n",
       "      <th>Tecrübe:</th>\n",
       "      <th>Yabancı Dil:</th>\n",
       "      <th>urls</th>\n",
       "      <th>Çalışma Şekli :</th>\n",
       "      <th>Ülke/Şehir:</th>\n",
       "      <th>Üniversite Bölümü:</th>\n",
       "    </tr>\n",
       "  </thead>\n",
       "  <tbody>\n",
       "    <tr>\n",
       "      <td>0</td>\n",
       "      <td>NaN</td>\n",
       "      <td>İthalat/İhracat</td>\n",
       "      <td>Üniversite(Mezun)</td>\n",
       "      <td>Üretim / Endüstriyel Ürünler, Maden ve Metal S...</td>\n",
       "      <td>Belirtilmemiştir</td>\n",
       "      <td>NaN</td>\n",
       "      <td>1 - 3 yıl tecrübeli adaylar</td>\n",
       "      <td>İngilizce( Okuma : İleri, Yazma : İleri, Konuş...</td>\n",
       "      <td>https://www.kariyer.net/is-ilani/cemobsan-meta...</td>\n",
       "      <td>Sürekli / Tam zamanlı</td>\n",
       "      <td>Tekirdağ(Çerkezköy)</td>\n",
       "      <td>NaN</td>\n",
       "    </tr>\n",
       "    <tr>\n",
       "      <td>0</td>\n",
       "      <td>NaN</td>\n",
       "      <td>Dijital Pazarlama</td>\n",
       "      <td>Üniversite(Mezun)</td>\n",
       "      <td>Restaurant - Cafe - Bar</td>\n",
       "      <td>Belirtilmemiştir</td>\n",
       "      <td>NaN</td>\n",
       "      <td>En az 3 yıl tecrübeli adaylar</td>\n",
       "      <td>İngilizce( Okuma : İleri, Yazma : İleri, Konuş...</td>\n",
       "      <td>https://www.kariyer.net/is-ilani/dogan-metalur...</td>\n",
       "      <td>Sürekli / Tam zamanlı</td>\n",
       "      <td>İzmir</td>\n",
       "      <td>NaN</td>\n",
       "    </tr>\n",
       "    <tr>\n",
       "      <td>0</td>\n",
       "      <td>Yapıldı</td>\n",
       "      <td>Bakım / Onarım</td>\n",
       "      <td>Üniversite(Mezun)</td>\n",
       "      <td>Otomotiv</td>\n",
       "      <td>1</td>\n",
       "      <td>Uzman</td>\n",
       "      <td>1 - 3 yıl tecrübeli adaylar</td>\n",
       "      <td>NaN</td>\n",
       "      <td>https://www.kariyer.net/is-ilani/mitsuba-tekla...</td>\n",
       "      <td>Sürekli / Tam zamanlı</td>\n",
       "      <td>Kocaeli</td>\n",
       "      <td>Elektrik Mühendisliği</td>\n",
       "    </tr>\n",
       "  </tbody>\n",
       "</table>\n",
       "</div>"
      ],
      "text/plain": [
       "  Askerlik Durumu:         Departman:   Eğitim Seviyesi:  \\\n",
       "0              NaN    İthalat/İhracat  Üniversite(Mezun)   \n",
       "0              NaN  Dijital Pazarlama  Üniversite(Mezun)   \n",
       "0          Yapıldı     Bakım / Onarım  Üniversite(Mezun)   \n",
       "\n",
       "                                      Firma Sektörü:  Personel Sayısı:  \\\n",
       "0  Üretim / Endüstriyel Ürünler, Maden ve Metal S...  Belirtilmemiştir   \n",
       "0                            Restaurant - Cafe - Bar  Belirtilmemiştir   \n",
       "0                                           Otomotiv                 1   \n",
       "\n",
       "  Pozisyon Seviyesi:                       Tecrübe:  \\\n",
       "0                NaN    1 - 3 yıl tecrübeli adaylar   \n",
       "0                NaN  En az 3 yıl tecrübeli adaylar   \n",
       "0              Uzman    1 - 3 yıl tecrübeli adaylar   \n",
       "\n",
       "                                        Yabancı Dil:  \\\n",
       "0  İngilizce( Okuma : İleri, Yazma : İleri, Konuş...   \n",
       "0  İngilizce( Okuma : İleri, Yazma : İleri, Konuş...   \n",
       "0                                                NaN   \n",
       "\n",
       "                                                urls        Çalışma Şekli :  \\\n",
       "0  https://www.kariyer.net/is-ilani/cemobsan-meta...  Sürekli / Tam zamanlı   \n",
       "0  https://www.kariyer.net/is-ilani/dogan-metalur...  Sürekli / Tam zamanlı   \n",
       "0  https://www.kariyer.net/is-ilani/mitsuba-tekla...  Sürekli / Tam zamanlı   \n",
       "\n",
       "           Ülke/Şehir:     Üniversite Bölümü:  \n",
       "0  Tekirdağ(Çerkezköy)                    NaN  \n",
       "0                İzmir                    NaN  \n",
       "0              Kocaeli  Elektrik Mühendisliği  "
      ]
     },
     "execution_count": 104,
     "metadata": {},
     "output_type": "execute_result"
    }
   ],
   "source": [
    "kriterDF"
   ]
  },
  {
   "cell_type": "code",
   "execution_count": 105,
   "metadata": {},
   "outputs": [],
   "source": [
    "driver.get(\"https://www.kariyer.net/is-ilani/kolt-kalite-guvence-muduru-2751986\")\n"
   ]
  },
  {
   "cell_type": "code",
   "execution_count": 10,
   "metadata": {},
   "outputs": [
    {
     "ename": "TypeError",
     "evalue": "unhashable type: 'dict'",
     "output_type": "error",
     "traceback": [
      "\u001b[1;31m---------------------------------------------------------------------------\u001b[0m",
      "\u001b[1;31mTypeError\u001b[0m                                 Traceback (most recent call last)",
      "\u001b[1;32m<ipython-input-10-6fbfcb941178>\u001b[0m in \u001b[0;36m<module>\u001b[1;34m\u001b[0m\n\u001b[0;32m      1\u001b[0m \u001b[0ma\u001b[0m\u001b[1;33m=\u001b[0m\u001b[1;33m{\u001b[0m\u001b[1;32mNone\u001b[0m\u001b[1;33m}\u001b[0m\u001b[1;33m\u001b[0m\u001b[1;33m\u001b[0m\u001b[0m\n\u001b[1;32m----> 2\u001b[1;33m \u001b[0ma\u001b[0m\u001b[1;33m.\u001b[0m\u001b[0madd\u001b[0m\u001b[1;33m(\u001b[0m\u001b[0mkriterler\u001b[0m\u001b[1;33m)\u001b[0m\u001b[1;33m\u001b[0m\u001b[1;33m\u001b[0m\u001b[0m\n\u001b[0m\u001b[0;32m      3\u001b[0m \u001b[0ma\u001b[0m\u001b[1;33m\u001b[0m\u001b[1;33m\u001b[0m\u001b[0m\n",
      "\u001b[1;31mTypeError\u001b[0m: unhashable type: 'dict'"
     ]
    }
   ],
   "source": [
    "a={None}\n",
    "a.add(kriterler)\n",
    "a"
   ]
  },
  {
   "cell_type": "code",
   "execution_count": 124,
   "metadata": {},
   "outputs": [],
   "source": [
    " kriterler = {\n",
    "        \"bir\": driver.find_elements_by_class_name(\"col-4\"),\n",
    "        \"iki\": driver.find_elements_by_class_name(\"col-12\")\n",
    "    }"
   ]
  },
  {
   "cell_type": "code",
   "execution_count": 173,
   "metadata": {
    "collapsed": true
   },
   "outputs": [
    {
     "data": {
      "text/plain": [
       "['Tecrübe:',\n",
       " 'Askerlik Durumu:',\n",
       " 'Eğitim Seviyesi:',\n",
       " 'Üniversite Bölümü:',\n",
       " 'Firma Sektörü:',\n",
       " 'Departman:',\n",
       " 'Çalışma Şekli :',\n",
       " 'Pozisyon Seviyesi:',\n",
       " 'Personel Sayısı:',\n",
       " 'Ülke/Şehir:']"
      ]
     },
     "execution_count": 173,
     "metadata": {},
     "output_type": "execute_result"
    }
   ],
   "source": [
    "[kriterler[\"bir\"][i].text for i in range(len(kriterler[\"bir\"]))]"
   ]
  },
  {
   "cell_type": "code",
   "execution_count": 323,
   "metadata": {},
   "outputs": [],
   "source": [
    "a=[]\n",
    "b=[]\n",
    "for i in range(len(kriterler['bir'])):\n",
    "    a.append(kriterler[\"bir\"][i].text)\n",
    "    b.append(kriterler[\"iki\"][i].text)"
   ]
  },
  {
   "cell_type": "code",
   "execution_count": 274,
   "metadata": {},
   "outputs": [],
   "source": [
    "from dfply import *"
   ]
  },
  {
   "cell_type": "code",
   "execution_count": 324,
   "metadata": {},
   "outputs": [
    {
     "data": {
      "text/html": [
       "<div>\n",
       "<style scoped>\n",
       "    .dataframe tbody tr th:only-of-type {\n",
       "        vertical-align: middle;\n",
       "    }\n",
       "\n",
       "    .dataframe tbody tr th {\n",
       "        vertical-align: top;\n",
       "    }\n",
       "\n",
       "    .dataframe thead th {\n",
       "        text-align: right;\n",
       "    }\n",
       "</style>\n",
       "<table border=\"1\" class=\"dataframe\">\n",
       "  <thead>\n",
       "    <tr style=\"text-align: right;\">\n",
       "      <th></th>\n",
       "      <th>Tecrübe:</th>\n",
       "      <th>Askerlik Durumu:</th>\n",
       "      <th>Eğitim Seviyesi:</th>\n",
       "      <th>Üniversite Bölümü:</th>\n",
       "      <th>Firma Sektörü:</th>\n",
       "      <th>Departman:</th>\n",
       "      <th>Çalışma Şekli :</th>\n",
       "      <th>Pozisyon Seviyesi:</th>\n",
       "      <th>Personel Sayısı:</th>\n",
       "      <th>Ülke/Şehir:</th>\n",
       "      <th>url</th>\n",
       "    </tr>\n",
       "  </thead>\n",
       "  <tbody>\n",
       "    <tr>\n",
       "      <td>0</td>\n",
       "      <td>1 - 3 yıl tecrübeli adaylar</td>\n",
       "      <td>Yapıldı</td>\n",
       "      <td>Üniversite(Mezun)</td>\n",
       "      <td>Elektrik Mühendisliği</td>\n",
       "      <td>Otomotiv</td>\n",
       "      <td>Bakım / Onarım</td>\n",
       "      <td>Sürekli / Tam zamanlı</td>\n",
       "      <td>Uzman</td>\n",
       "      <td>1</td>\n",
       "      <td>Kocaeli</td>\n",
       "      <td>https://www.kariyer.net/is-ilani/cemobsan-meta...</td>\n",
       "    </tr>\n",
       "  </tbody>\n",
       "</table>\n",
       "</div>"
      ],
      "text/plain": [
       "                      Tecrübe: Askerlik Durumu:   Eğitim Seviyesi:  \\\n",
       "0  1 - 3 yıl tecrübeli adaylar          Yapıldı  Üniversite(Mezun)   \n",
       "\n",
       "      Üniversite Bölümü: Firma Sektörü:      Departman:  \\\n",
       "0  Elektrik Mühendisliği       Otomotiv  Bakım / Onarım   \n",
       "\n",
       "         Çalışma Şekli : Pozisyon Seviyesi: Personel Sayısı: Ülke/Şehir:  \\\n",
       "0  Sürekli / Tam zamanlı              Uzman                1     Kocaeli   \n",
       "\n",
       "                                                 url  \n",
       "0  https://www.kariyer.net/is-ilani/cemobsan-meta...  "
      ]
     },
     "execution_count": 324,
     "metadata": {},
     "output_type": "execute_result"
    }
   ],
   "source": [
    "df=(pd.DataFrame([b],columns=a)>>mutate(url=urls[1]))\n",
    "df"
   ]
  },
  {
   "cell_type": "code",
   "execution_count": 286,
   "metadata": {},
   "outputs": [],
   "source": [
    "DT[2]=pd.DataFrame([b],columns=a)"
   ]
  }
 ],
 "metadata": {
  "kernelspec": {
   "display_name": "Python 3",
   "language": "python",
   "name": "python3"
  },
  "language_info": {
   "codemirror_mode": {
    "name": "ipython",
    "version": 3
   },
   "file_extension": ".py",
   "mimetype": "text/x-python",
   "name": "python",
   "nbconvert_exporter": "python",
   "pygments_lexer": "ipython3",
   "version": "3.7.4"
  },
  "latex_envs": {
   "LaTeX_envs_menu_present": true,
   "autoclose": false,
   "autocomplete": true,
   "bibliofile": "biblio.bib",
   "cite_by": "apalike",
   "current_citInitial": 1,
   "eqLabelWithNumbers": true,
   "eqNumInitial": 1,
   "hotkeys": {
    "equation": "Ctrl-E",
    "itemize": "Ctrl-I"
   },
   "labels_anchors": false,
   "latex_user_defs": false,
   "report_style_numbering": false,
   "user_envs_cfg": false
  },
  "toc": {
   "base_numbering": 1,
   "nav_menu": {},
   "number_sections": true,
   "sideBar": true,
   "skip_h1_title": false,
   "title_cell": "Table of Contents",
   "title_sidebar": "Contents",
   "toc_cell": false,
   "toc_position": {},
   "toc_section_display": true,
   "toc_window_display": false
  },
  "varInspector": {
   "cols": {
    "lenName": 16,
    "lenType": 16,
    "lenVar": 40
   },
   "kernels_config": {
    "python": {
     "delete_cmd_postfix": "",
     "delete_cmd_prefix": "del ",
     "library": "var_list.py",
     "varRefreshCmd": "print(var_dic_list())"
    },
    "r": {
     "delete_cmd_postfix": ") ",
     "delete_cmd_prefix": "rm(",
     "library": "var_list.r",
     "varRefreshCmd": "cat(var_dic_list()) "
    }
   },
   "oldHeight": 633.4,
   "position": {
    "height": "40px",
    "left": "1370px",
    "right": "20px",
    "top": "75px",
    "width": "534px"
   },
   "types_to_exclude": [
    "module",
    "function",
    "builtin_function_or_method",
    "instance",
    "_Feature"
   ],
   "varInspector_section_display": "none",
   "window_display": true
  }
 },
 "nbformat": 4,
 "nbformat_minor": 2
}
